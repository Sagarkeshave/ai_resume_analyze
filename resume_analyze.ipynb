{
  "nbformat": 4,
  "nbformat_minor": 0,
  "metadata": {
    "colab": {
      "provenance": []
    },
    "kernelspec": {
      "name": "python3",
      "display_name": "Python 3"
    },
    "language_info": {
      "name": "python"
    }
  },
  "cells": [
    {
      "cell_type": "code",
      "source": [
        "!pip install pypdf2"
      ],
      "metadata": {
        "colab": {
          "base_uri": "https://localhost:8080/"
        },
        "id": "ZfpI12rhMYXC",
        "outputId": "89a5ef0a-fe30-4149-93c5-6f61965bdf89"
      },
      "execution_count": 5,
      "outputs": [
        {
          "output_type": "stream",
          "name": "stdout",
          "text": [
            "Collecting pypdf2\n",
            "  Downloading pypdf2-3.0.1-py3-none-any.whl (232 kB)\n",
            "\u001b[?25l     \u001b[90m━━━━━━━━━━━━━━━━━━━━━━━━━━━━━━━━━━━━━━━━\u001b[0m \u001b[32m0.0/232.6 kB\u001b[0m \u001b[31m?\u001b[0m eta \u001b[36m-:--:--\u001b[0m\r\u001b[2K     \u001b[91m━━━━━━━━━━━━━━━━━━━━━━━━\u001b[0m\u001b[91m╸\u001b[0m\u001b[90m━━━━━━━━━━━━━━━\u001b[0m \u001b[32m143.4/232.6 kB\u001b[0m \u001b[31m4.2 MB/s\u001b[0m eta \u001b[36m0:00:01\u001b[0m\r\u001b[2K     \u001b[90m━━━━━━━━━━━━━━━━━━━━━━━━━━━━━━━━━━━━━━━━\u001b[0m \u001b[32m232.6/232.6 kB\u001b[0m \u001b[31m4.2 MB/s\u001b[0m eta \u001b[36m0:00:00\u001b[0m\n",
            "\u001b[?25hInstalling collected packages: pypdf2\n",
            "Successfully installed pypdf2-3.0.1\n"
          ]
        }
      ]
    },
    {
      "cell_type": "code",
      "source": [
        "!pip install -q langchain"
      ],
      "metadata": {
        "colab": {
          "base_uri": "https://localhost:8080/"
        },
        "id": "mph9RdpZMoPp",
        "outputId": "be40ba87-d93a-482e-f99f-c47352553e29"
      },
      "execution_count": 6,
      "outputs": [
        {
          "output_type": "stream",
          "name": "stdout",
          "text": [
            "\u001b[2K     \u001b[90m━━━━━━━━━━━━━━━━━━━━━━━━━━━━━━━━━━━━━━━━\u001b[0m \u001b[32m807.5/807.5 kB\u001b[0m \u001b[31m10.8 MB/s\u001b[0m eta \u001b[36m0:00:00\u001b[0m\n",
            "\u001b[2K     \u001b[90m━━━━━━━━━━━━━━━━━━━━━━━━━━━━━━━━━━━━━━━━\u001b[0m \u001b[32m1.8/1.8 MB\u001b[0m \u001b[31m43.3 MB/s\u001b[0m eta \u001b[36m0:00:00\u001b[0m\n",
            "\u001b[2K     \u001b[90m━━━━━━━━━━━━━━━━━━━━━━━━━━━━━━━━━━━━━━━━\u001b[0m \u001b[32m256.9/256.9 kB\u001b[0m \u001b[31m24.5 MB/s\u001b[0m eta \u001b[36m0:00:00\u001b[0m\n",
            "\u001b[2K     \u001b[90m━━━━━━━━━━━━━━━━━━━━━━━━━━━━━━━━━━━━━━━━\u001b[0m \u001b[32m66.6/66.6 kB\u001b[0m \u001b[31m6.6 MB/s\u001b[0m eta \u001b[36m0:00:00\u001b[0m\n",
            "\u001b[2K     \u001b[90m━━━━━━━━━━━━━━━━━━━━━━━━━━━━━━━━━━━━━━━━\u001b[0m \u001b[32m49.4/49.4 kB\u001b[0m \u001b[31m5.2 MB/s\u001b[0m eta \u001b[36m0:00:00\u001b[0m\n",
            "\u001b[2K     \u001b[90m━━━━━━━━━━━━━━━━━━━━━━━━━━━━━━━━━━━━━━━━\u001b[0m \u001b[32m138.5/138.5 kB\u001b[0m \u001b[31m15.6 MB/s\u001b[0m eta \u001b[36m0:00:00\u001b[0m\n",
            "\u001b[?25h"
          ]
        }
      ]
    },
    {
      "cell_type": "code",
      "source": [
        "!pip install --upgrade --quiet  langchain-google-genai"
      ],
      "metadata": {
        "id": "-kJjBzqLNJ74"
      },
      "execution_count": 13,
      "outputs": []
    },
    {
      "cell_type": "code",
      "execution_count": 16,
      "metadata": {
        "id": "uYg_gZC6L2oj"
      },
      "outputs": [],
      "source": [
        "from PyPDF2 import PdfReader\n",
        "from langchain_google_genai import ChatGoogleGenerativeAI\n",
        "from langchain.chains.question_answering import load_qa_chain\n",
        "import warnings\n",
        "warnings.filterwarnings('ignore')"
      ]
    },
    {
      "cell_type": "code",
      "source": [
        "GOOGLE_API_KEY = \"Enter your api key\"\n"
      ],
      "metadata": {
        "id": "WAvcNEUNNpEa"
      },
      "execution_count": 17,
      "outputs": []
    },
    {
      "cell_type": "code",
      "source": [
        "llm = ChatGoogleGenerativeAI(model=\"gemini-pro\", google_api_key=GOOGLE_API_KEY)"
      ],
      "metadata": {
        "id": "FKHgUidYMLMV"
      },
      "execution_count": 18,
      "outputs": []
    },
    {
      "cell_type": "code",
      "source": [
        "pdf = \"/content/SAGAR KESHAVE MAIN (1).pdf\"\n",
        "pdf_reader = PdfReader(pdf)\n"
      ],
      "metadata": {
        "colab": {
          "base_uri": "https://localhost:8080/"
        },
        "id": "SVixPuPsM251",
        "outputId": "be9fa8c6-c03c-4d2f-91d9-ab864c7e7f44"
      },
      "execution_count": 20,
      "outputs": [
        {
          "output_type": "stream",
          "name": "stdout",
          "text": [
            "<PyPDF2._reader.PdfReader object at 0x7ca295c7b520>\n"
          ]
        }
      ]
    },
    {
      "cell_type": "code",
      "source": [
        "# extrat text from each page separately\n",
        "text = \"\"\n",
        "for page in pdf_reader.pages:\n",
        "    text += page.extract_text()\n",
        "\n",
        "print(text)"
      ],
      "metadata": {
        "colab": {
          "base_uri": "https://localhost:8080/"
        },
        "id": "9p3uQSFrNuuZ",
        "outputId": "d5063bd3-4a03-4784-fa80-71645ccb3104"
      },
      "execution_count": 24,
      "outputs": [
        {
          "output_type": "stream",
          "name": "stdout",
          "text": [
            "SAGAR\n",
            "KESHAVE\n",
            "(AI/ML\n",
            "engineer)\n",
            "Pune\n",
            "Maharashtra\n",
            "•\n",
            "+917812845088\n",
            "•\n",
            "sagarkeshave14@gmail.com\n",
            "•\n",
            "LinkedIn\n",
            "•\n",
            "GitHub\n",
            "PROJECTS\n",
            "●\n",
            "Image\n",
            "captioning\n",
            "-\n",
            "Text\n",
            "generation\n",
            "for\n",
            "given\n",
            "image\n",
            "from\n",
            "scratch\n",
            "Dec\n",
            "-\n",
            "2023\n",
            "➢\n",
            "Encoder\n",
            "consists\n",
            "of\n",
            "pre-trained\n",
            "Inception-V3\n",
            "model\n",
            "and\n",
            "➢\n",
            "decoder\n",
            "consists\n",
            "of\n",
            "LSTM\n",
            "along\n",
            "with\n",
            "visual-attention.\n",
            "➢\n",
            "And\n",
            "word\n",
            "embedding\n",
            "with\n",
            "word2vec\n",
            "intersected\n",
            "with\n",
            "GoogleNews\n",
            "vectors\n",
            "corpus.\n",
            "GitHub\n",
            "●\n",
            "Neural\n",
            "machine\n",
            "Translation\n",
            "-\n",
            "NLP\n",
            "project\n",
            "of\n",
            "Language\n",
            "translation\n",
            "-\n",
            "English\n",
            "to\n",
            "Marathi\n",
            "➢\n",
            "-\n",
            "Word\n",
            "Level\n",
            "translation\n",
            "of\n",
            "English\n",
            "to\n",
            "Marathi\n",
            "language.\n",
            "➢\n",
            "Trained\n",
            "Encoder-Decoder\n",
            "Long\n",
            "Short\n",
            "Term\n",
            "Memory\n",
            "model\n",
            "and\n",
            "Bidirectional\n",
            "LSTM\n",
            "with\n",
            "Bahdanau\n",
            "Attention\n",
            "layer\n",
            "GitHub\n",
            "Nov-2023\n",
            "●\n",
            "Blog\n",
            "Post\n",
            "Application\n",
            "-\n",
            "A\n",
            "Web-based\n",
            "platform\n",
            "enabling\n",
            "blogging\n",
            "capabilities.\n",
            "➢\n",
            "Features\n",
            "include\n",
            "user\n",
            "authentication,\n",
            "Email\n",
            "password\n",
            "reset,\n",
            "CRUD\n",
            "post\n",
            "functionality.\n",
            "➢\n",
            "Deployed\n",
            "on\n",
            "PythonAnyWhere\n",
            "Web\n",
            "Hosting\n",
            "Solution.\n",
            "open\n",
            "app\n",
            "(\n",
            "GitHub\n",
            ")\n",
            "-\n",
            "Django\n",
            "June-2023\n",
            "●\n",
            "Flight\n",
            "fare\n",
            "prediction\n",
            "-\n",
            "➢\n",
            "Prediction\n",
            "of\n",
            "flight\n",
            "fare\n",
            "based\n",
            "on\n",
            "source,\n",
            "destination,\n",
            "duration,\n",
            "flight\n",
            "hours\n",
            "etc.\n",
            "➢\n",
            "With\n",
            "random\n",
            "forest\n",
            "regressor\n",
            "achieved\n",
            "0.83\n",
            "R-2\n",
            "score.\n",
            "open\n",
            "app\n",
            "(\n",
            "GitHub\n",
            ")\n",
            "-\n",
            "ML\n",
            "regression\n",
            "-\n",
            "April\n",
            "2023\n",
            "●\n",
            "Document\n",
            "retrieval\n",
            "based\n",
            "QnA\n",
            "system\n",
            "(PDF)\n",
            "–\n",
            "langchain\n",
            "-\n",
            "Dec\n",
            "2023\n",
            "➢\n",
            "End\n",
            "to\n",
            "end\n",
            "LLM\n",
            "project\n",
            "based\n",
            "on\n",
            "Google\n",
            "Palm\n",
            "and\n",
            "Langchain.\n",
            "handling\n",
            "extensive\n",
            "PDFs,\n",
            "➢\n",
            "Building\n",
            "a\n",
            "Q&A\n",
            "system\n",
            "for\n",
            "PDF\n",
            "data\n",
            "user\n",
            "interactions\n",
            "using\n",
            "Streamlit.io\n",
            ".\n",
            "GitHub\n",
            "●\n",
            "Netflix\n",
            "Data\n",
            "Visualization\n",
            "and\n",
            "recommendation\n",
            "system\n",
            "-\n",
            "➢\n",
            "Performed\n",
            "EDA\n",
            "(seaborn,\n",
            "plotly,\n",
            "matplotlib)\n",
            "and\n",
            "movie\n",
            "rating\n",
            "analysis.\n",
            "➢\n",
            "Content\n",
            "based\n",
            "recommendation\n",
            "with\n",
            "cosine\n",
            "similarity\n",
            "matrix\n",
            "(GitHub)\n",
            "TECHNICAL\n",
            "SKILLS\n",
            "Programming\n",
            "language\n",
            "-\n",
            "Python\n",
            "Database\n",
            "-\n",
            "MySQL\n",
            "Cloud\n",
            "-\n",
            "Google\n",
            "cloud\n",
            "platform\n",
            "Web\n",
            "Framework\n",
            "-\n",
            "Django,\n",
            "Flask,\n",
            "streamlit\n",
            "Tools\n",
            "and\n",
            "libraries\n",
            "-\n",
            "Tensor\n",
            "flow,\n",
            "NLTK,\n",
            "scikit-learn,\n",
            "langchain,\n",
            "beautiful\n",
            "soup,\n",
            "github,\n",
            "streamlit,\n",
            "Google\n",
            "colab,\n",
            "spacy,\n",
            "textBlob,\n",
            "HTML,\n",
            "kaggle,\n",
            "Huggingface\n",
            "EDUCATION\n",
            "L.T.D.P\n",
            "senior\n",
            "college,\n",
            "Pune\n",
            "University,\n",
            "Bachelor\n",
            "of\n",
            "computer\n",
            "science,\n",
            "2nd\n",
            "year\n",
            ",\n",
            "Aug\n",
            "2022\n",
            "Wingsss\n",
            "college\n",
            "of\n",
            "aviation\n",
            "technology,\n",
            "Pune,\n",
            "Aircraft\n",
            "Maintenance\n",
            "Engineering\n",
            "(Mech),\n",
            "2017-2021\n",
            "Skilledge\n",
            "Course\n",
            "Data\n",
            "Science\n",
            "bootcamp,\n",
            "Pune\n",
            "Nov\n",
            "-\n",
            "2022\n",
            "\n"
          ]
        }
      ]
    },
    {
      "cell_type": "code",
      "source": [
        "from langchain.chains import LLMChain\n"
      ],
      "metadata": {
        "id": "4IBtgHPOPIuQ"
      },
      "execution_count": 30,
      "outputs": []
    },
    {
      "cell_type": "code",
      "source": [
        "def generate_response(task):\n",
        "    # summary_prompt =  \" Summarize below data in brief and finally conclude them and use bullet points if required\"\n",
        "\n",
        "\n",
        "    output = llm.invoke(task)\n",
        "\n",
        "    return output.content\n"
      ],
      "metadata": {
        "id": "LkzgU8fhN29q"
      },
      "execution_count": 42,
      "outputs": []
    },
    {
      "cell_type": "code",
      "source": [
        "def resume_summary(text):\n",
        "    prompt = f''' Summarize below data in brief, use bullet points if required and finally conclude them and use bullet points if required.\n",
        "\n",
        "                  {text}\n",
        "\n",
        "                '''\n",
        "    return prompt\n",
        "\n",
        "summary = resume_summary(text)\n",
        "# print(summary)\n",
        "\n",
        "summary_result = generate_response(summary)\n",
        "print(summary_result)"
      ],
      "metadata": {
        "colab": {
          "base_uri": "https://localhost:8080/"
        },
        "id": "RYOa-xHsOOTz",
        "outputId": "f68c04a7-24b6-4aeb-db4f-f9ad5347b526"
      },
      "execution_count": 39,
      "outputs": [
        {
          "output_type": "stream",
          "name": "stdout",
          "text": [
            "content=\"**Summary:**\\n\\n* Sagar Keshave is an AI/ML engineer from Pune, Maharashtra.\\n* He has completed several projects in image captioning, neural machine translation, blog post applications, flight fare prediction, and document retrieval systems.\\n* He is proficient in Python, MySQL, Google Cloud Platform, Django, Flask, Tensorflow, and various AI/ML libraries.\\n* He holds a Bachelor's in Computer Science and an Aircraft Maintenance Engineering degree.\\n\\n**Conclusion:**\\n\\n* Sagar Keshave is a highly skilled AI/ML engineer with a strong academic background and experience in various AI/ML projects.\\n* His technical skills and project portfolio demonstrate his ability to develop and implement innovative AI/ML solutions.\"\n"
          ]
        }
      ]
    },
    {
      "cell_type": "code",
      "source": [
        "def resume_strength(text):\n",
        "    prompt = f''' Need to detailed analysis and explain the strengths of candidate in below resume.\n",
        "\n",
        "                  {text}\n",
        "\n",
        "                '''\n",
        "    return prompt\n",
        "\n",
        "strength = resume_strength(text)\n",
        "# print(strength)\n",
        "\n",
        "strength_result = generate_response(strength)\n",
        "print(strength_result)"
      ],
      "metadata": {
        "colab": {
          "base_uri": "https://localhost:8080/"
        },
        "id": "JJs6t0LTOTj-",
        "outputId": "9aa7486a-eb93-49c9-a6c6-02ea587227a9"
      },
      "execution_count": 43,
      "outputs": [
        {
          "output_type": "stream",
          "name": "stdout",
          "text": [
            "**Strengths of the Candidate:**\n",
            "\n",
            "**Technical Skills:**\n",
            "\n",
            "* **Proficient in Python:** The candidate demonstrates a strong foundation in Python, which is essential for AI/ML development.\n",
            "* **Expertise in AI/ML Techniques:** The candidate has hands-on experience with advanced AI/ML techniques such as image captioning, neural machine translation, and document retrieval systems.\n",
            "* **Familiarity with Cloud Platforms:** The candidate has experience working with Google Cloud Platform, which is a valuable asset in the cloud-centric AI/ML industry.\n",
            "* **Strong Data Analysis Skills:** The candidate has experience performing data analysis and visualization using tools like seaborn, plotly, and matplotlib.\n",
            "\n",
            "**Projects:**\n",
            "\n",
            "* **Image Captioning:** This project demonstrates the candidate's ability to build complex AI models from scratch, including an encoder, decoder, and word embedding.\n",
            "* **Neural Machine Translation:** This project showcases the candidate's proficiency in NLP and their ability to develop models for language translation.\n",
            "* **Blog Post Application:** This project demonstrates the candidate's web development skills and their understanding of user authentication and data management.\n",
            "* **Flight Fare Prediction:** This project highlights the candidate's ability to apply ML regression techniques to real-world problems.\n",
            "* **Document Retrieval QnA System:** This project showcases the candidate's expertise in end-to-end LLM projects and their ability to handle extensive PDF data.\n",
            "\n",
            "**Education:**\n",
            "\n",
            "* **Bachelor of Computer Science (2nd Year):** The candidate is actively pursuing a degree in Computer Science, which provides a strong theoretical foundation for AI/ML development.\n",
            "* **Aircraft Maintenance Engineering (Mech):** The candidate's previous engineering background in aircraft maintenance demonstrates their analytical and problem-solving abilities.\n",
            "* **Data Science Bootcamp:** The candidate has undergone specialized training in Data Science, which has further enhanced their practical skills.\n",
            "\n",
            "**Additional Strengths:**\n",
            "\n",
            "* **GitHub and Kaggle Presence:** The candidate's active presence on GitHub and Kaggle indicates their involvement in the AI/ML community and their willingness to share and learn.\n",
            "* **Strong Communication Skills:** The candidate's well-written resume and LinkedIn profile demonstrate their ability to effectively communicate technical concepts and their professional experience.\n"
          ]
        }
      ]
    },
    {
      "cell_type": "code",
      "source": [
        "def resume_weakness(text):\n",
        "    prompt = f''' need to detailed analysis and explain of the weakness of below resume and how to improve make a better resume.\n",
        "\n",
        "                  {text}\n",
        "\n",
        "                '''\n",
        "    return prompt\n",
        "\n",
        "weakness = resume_weakness(text)\n",
        "# print(strength)\n",
        "\n",
        "weakness_result = generate_response(weakness)\n",
        "print(weakness_result)"
      ],
      "metadata": {
        "colab": {
          "base_uri": "https://localhost:8080/"
        },
        "id": "Q1sScut1R6V0",
        "outputId": "9e81bc71-9637-4092-ae96-f90b0479b291"
      },
      "execution_count": 44,
      "outputs": [
        {
          "output_type": "stream",
          "name": "stdout",
          "text": [
            "**Weaknesses of the Resume:**\n",
            "\n",
            "* **Lack of a Professional Summary:** The resume lacks a concise and compelling summary statement that highlights the candidate's key skills, experience, and career goals.\n",
            "* **Inconsistent Font and Formatting:** The resume uses various font sizes and styles, making it visually distracting and difficult to read.\n",
            "* **Excessive Use of Bullet Points:** The resume relies heavily on bullet points, which can clutter the text and make it difficult to skim.\n",
            "* **Incomplete Project Descriptions:** The project descriptions are brief and lack specific details about the candidate's responsibilities and accomplishments.\n",
            "* **Irrelevant Information:** The resume includes information about the candidate's Aircraft Maintenance Engineering degree, which is not relevant to their current career aspirations.\n",
            "* **Lack of Quantifiable Results:** The resume does not provide any quantifiable results or metrics to demonstrate the impact of the candidate's work.\n",
            "* **Missing Call to Action:** The resume does not include a clear call to action, such as \"Seeking an AI/ML Engineer position.\"\n",
            "\n",
            "**Improvements to Make the Resume Better:**\n",
            "\n",
            "* **Create a Professional Summary:** Add a concise and engaging summary statement that highlights the candidate's relevant skills, experience, and career objectives.\n",
            "* **Use Consistent Formatting:** Choose a single font and font size for the entire resume to improve readability and visual appeal.\n",
            "* **Optimize Project Descriptions:** Expand on the project descriptions to include specific details about the candidate's responsibilities, methodologies used, and accomplishments.\n",
            "* **Quantify Results:** Include quantifiable metrics to demonstrate the impact of the candidate's work, such as the number of projects completed, accuracy rates achieved, or cost savings generated.\n",
            "* **Remove Irrelevant Information:** Delete the section about the candidate's Aircraft Maintenance Engineering degree to focus on their relevant skills and experience.\n",
            "* **Add a Call to Action:** End the resume with a clear call to action, such as \"Seeking an AI/ML Engineer position with a dynamic and innovative organization.\"\n",
            "* **Proofread Carefully:** Review the resume thoroughly for any errors in grammar, spelling, or formatting.\n"
          ]
        }
      ]
    },
    {
      "cell_type": "code",
      "source": [
        "def job_title_suggestion(text):\n",
        "\n",
        "  prompt = f''' What are the job roles i apply to linkedin based on below resume?. Suggest 8 job roles based on skills below.\n",
        "\n",
        "                {text}\n",
        "\n",
        "                '''\n",
        "\n",
        "  return prompt\n",
        "\n",
        "job_roles =   job_title_suggestion(text)\n",
        "result_suggetions = generate_response(job_roles)\n",
        "result_suggetions"
      ],
      "metadata": {
        "colab": {
          "base_uri": "https://localhost:8080/",
          "height": 35
        },
        "id": "olsOtnwMSs-1",
        "outputId": "82df72e7-bc92-45e5-dca1-22ce05b9175d"
      },
      "execution_count": 46,
      "outputs": [
        {
          "output_type": "execute_result",
          "data": {
            "text/plain": [
              "'1. **AI/ML Engineer**\\n2. **NLP Engineer**\\n3. **Data Scientist**\\n4. **Web Developer**\\n5. **Software Engineer**'"
            ],
            "application/vnd.google.colaboratory.intrinsic+json": {
              "type": "string"
            }
          },
          "metadata": {},
          "execution_count": 46
        }
      ]
    },
    {
      "cell_type": "code",
      "source": [],
      "metadata": {
        "id": "iMkFcmDXTkR7"
      },
      "execution_count": null,
      "outputs": []
    }
  ]
}